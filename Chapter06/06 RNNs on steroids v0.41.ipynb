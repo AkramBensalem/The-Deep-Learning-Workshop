{
 "cells": [
  {
   "cell_type": "code",
   "execution_count": null,
   "metadata": {
    "colab": {
     "base_uri": "https://localhost:8080/",
     "height": 62
    },
    "colab_type": "code",
    "executionInfo": {
     "elapsed": 2784,
     "status": "ok",
     "timestamp": 1582292893577,
     "user": {
      "displayName": "mirza rahim",
      "photoUrl": "https://lh3.googleusercontent.com/a-/AAuE7mB54HaePestI8j3iOrluydVk9FOMKwBnb28JlbkXw=s64",
      "userId": "17996492240964476391"
     },
     "user_tz": -330
    },
    "id": "0gkLq3SIsMGo",
    "outputId": "0853f9bc-89b2-4b2d-ce1b-d945ba5e6fbf",
    "scrolled": true
   },
   "outputs": [],
   "source": [
    "from tensorflow.keras.datasets import imdb"
   ]
  },
  {
   "cell_type": "code",
   "execution_count": 0,
   "metadata": {
    "colab": {},
    "colab_type": "code",
    "id": "zi848WzKsMGx"
   },
   "outputs": [],
   "source": [
    "vocab_size = 8000"
   ]
  },
  {
   "cell_type": "code",
   "execution_count": 0,
   "metadata": {
    "colab": {},
    "colab_type": "code",
    "id": "UiApCeTLsMG4"
   },
   "outputs": [],
   "source": [
    "(X_train, y_train), (X_test, y_test) = imdb.load_data(num_words=vocab_size)"
   ]
  },
  {
   "cell_type": "markdown",
   "metadata": {
    "colab_type": "text",
    "id": "Mvgev79sAQUc"
   },
   "source": [
    "#### Assessing the type of the obtained data"
   ]
  },
  {
   "cell_type": "code",
   "execution_count": 11,
   "metadata": {
    "colab": {
     "base_uri": "https://localhost:8080/",
     "height": 87
    },
    "colab_type": "code",
    "executionInfo": {
     "elapsed": 1828,
     "status": "ok",
     "timestamp": 1582292949549,
     "user": {
      "displayName": "mirza rahim",
      "photoUrl": "https://lh3.googleusercontent.com/a-/AAuE7mB54HaePestI8j3iOrluydVk9FOMKwBnb28JlbkXw=s64",
      "userId": "17996492240964476391"
     },
     "user_tz": -330
    },
    "id": "TN7tBiySAZfh",
    "outputId": "d88f6934-929b-453e-89f3-10595ed93347"
   },
   "outputs": [
    {
     "name": "stdout",
     "output_type": "stream",
     "text": [
      "<class 'numpy.ndarray'>\n",
      "<class 'list'>\n",
      "[1, 778, 128, 74, 12, 630, 163, 15, 4, 1766, 7982, 1051, 2, 32, 85, 156, 45, 40, 148, 139, 121, 664, 665, 10, 10, 1361, 173, 4, 749, 2, 16, 3804, 8, 4, 226, 65, 12, 43, 127, 24, 2, 10, 10]\n"
     ]
    }
   ],
   "source": [
    "print(type(X_train))\n",
    "print(type(X_train[5]))\n",
    "print(X_train[5])"
   ]
  },
  {
   "cell_type": "code",
   "execution_count": 0,
   "metadata": {
    "colab": {},
    "colab_type": "code",
    "id": "DppWi4RiAD6c"
   },
   "outputs": [],
   "source": [
    "maxlen = 200"
   ]
  },
  {
   "cell_type": "markdown",
   "metadata": {},
   "source": [
    "#### Staging and pre-processing our data"
   ]
  },
  {
   "cell_type": "code",
   "execution_count": null,
   "metadata": {},
   "outputs": [],
   "source": [
    "from tensorflow.keras import preprocessing"
   ]
  },
  {
   "cell_type": "code",
   "execution_count": 0,
   "metadata": {
    "colab": {},
    "colab_type": "code",
    "id": "KwgRpjUXsMG_"
   },
   "outputs": [],
   "source": [
    "X_train = preprocessing.sequence.pad_sequences(X_train, maxlen=maxlen)\n",
    "X_test = preprocessing.sequence.pad_sequences(X_test, maxlen=maxlen)"
   ]
  },
  {
   "cell_type": "code",
   "execution_count": 19,
   "metadata": {
    "colab": {
     "base_uri": "https://localhost:8080/",
     "height": 269
    },
    "colab_type": "code",
    "executionInfo": {
     "elapsed": 1247,
     "status": "ok",
     "timestamp": 1582292975570,
     "user": {
      "displayName": "mirza rahim",
      "photoUrl": "https://lh3.googleusercontent.com/a-/AAuE7mB54HaePestI8j3iOrluydVk9FOMKwBnb28JlbkXw=s64",
      "userId": "17996492240964476391"
     },
     "user_tz": -330
    },
    "id": "8OB8O_uxbjXX",
    "outputId": "8922b71b-de5d-47a5-8b6e-e6a04d234349"
   },
   "outputs": [
    {
     "name": "stdout",
     "output_type": "stream",
     "text": [
      "[   0    0    0    0    0    0    0    0    0    0    0    0    0    0\n",
      "    0    0    0    0    0    0    0    0    0    0    0    0    0    0\n",
      "    0    0    0    0    0    0    0    0    0    0    0    0    0    0\n",
      "    0    0    0    0    0    0    0    0    0    0    0    0    0    0\n",
      "    0    0    0    0    0    0    0    0    0    0    0    0    0    0\n",
      "    0    0    0    0    0    0    0    0    0    0    0    0    0    0\n",
      "    0    0    0    0    0    0    0    0    0    0    0    0    0    0\n",
      "    0    0    0    0    0    0    0    0    0    0    0    0    0    0\n",
      "    0    0    0    0    0    0    0    0    0    0    0    0    0    0\n",
      "    0    0    0    0    0    0    0    0    0    0    0    0    0    0\n",
      "    0    0    0    0    0    0    0    0    0    0    0    0    0    0\n",
      "    0    0    0    1  778  128   74   12  630  163   15    4 1766 7982\n",
      " 1051    2   32   85  156   45   40  148  139  121  664  665   10   10\n",
      " 1361  173    4  749    2   16 3804    8    4  226   65   12   43  127\n",
      "   24    2   10   10]\n"
     ]
    }
   ],
   "source": [
    "print(X_train[5])"
   ]
  },
  {
   "cell_type": "markdown",
   "metadata": {
    "colab_type": "text",
    "id": "Se84HBeesMI2"
   },
   "source": [
    "### Using Plain RNNs"
   ]
  },
  {
   "cell_type": "code",
   "execution_count": 0,
   "metadata": {
    "colab": {},
    "colab_type": "code",
    "id": "qGW0y8_DBog0"
   },
   "outputs": [],
   "source": [
    "import numpy as np\n",
    "import tensorflow as tf\n",
    "\n",
    "np.random.seed(42)\n",
    "tf.random.set_seed(42)"
   ]
  },
  {
   "cell_type": "code",
   "execution_count": null,
   "metadata": {},
   "outputs": [],
   "source": [
    "from tensorflow.keras.models import Sequential\n",
    "from tensorflow.keras.layers import SimpleRNN, Flatten, Dense, Embedding, SpatialDropout1D, Dropout"
   ]
  },
  {
   "cell_type": "code",
   "execution_count": null,
   "metadata": {},
   "outputs": [],
   "source": [
    "model_rnn = Sequential()\n",
    "model_rnn.add(Embedding(vocab_size, output_dim=32))\n",
    "model_rnn.add(SpatialDropout1D(0.4))"
   ]
  },
  {
   "cell_type": "markdown",
   "metadata": {},
   "source": [
    "### Exercise 6.1: Build and train RNN model for sentiment classification"
   ]
  },
  {
   "cell_type": "markdown",
   "metadata": {},
   "source": [
    "1. To the model, add a SimpleRNN layer with 32 neurons (chosen arbitrarily, another hyper-parameter to tune)"
   ]
  },
  {
   "cell_type": "code",
   "execution_count": 0,
   "metadata": {
    "colab": {},
    "colab_type": "code",
    "id": "vBWXz8BNsMI-"
   },
   "outputs": [],
   "source": [
    "model_rnn.add(SimpleRNN(32))"
   ]
  },
  {
   "cell_type": "markdown",
   "metadata": {},
   "source": [
    "2. Next, add a dropout layer with 40% dropout (an arbitrary choice again)"
   ]
  },
  {
   "cell_type": "code",
   "execution_count": null,
   "metadata": {},
   "outputs": [],
   "source": [
    "model_rnn.add(Dropout(0.4))"
   ]
  },
  {
   "cell_type": "markdown",
   "metadata": {},
   "source": [
    "3. Add a dense layer with a sigmoid activation to complete the model architecture. This is the output layer that makes the prediction."
   ]
  },
  {
   "cell_type": "code",
   "execution_count": null,
   "metadata": {},
   "outputs": [],
   "source": [
    "model_rnn.add(Dense(1, activation='sigmoid'))"
   ]
  },
  {
   "cell_type": "markdown",
   "metadata": {},
   "source": [
    "4. Compile the model and view the model summary."
   ]
  },
  {
   "cell_type": "code",
   "execution_count": null,
   "metadata": {},
   "outputs": [],
   "source": [
    "model_rnn.compile(loss='binary_crossentropy',\n",
    "              optimizer='rmsprop',\n",
    "              metrics=['accuracy'])"
   ]
  },
  {
   "cell_type": "code",
   "execution_count": 37,
   "metadata": {
    "colab": {
     "base_uri": "https://localhost:8080/",
     "height": 319
    },
    "colab_type": "code",
    "executionInfo": {
     "elapsed": 917,
     "status": "ok",
     "timestamp": 1582293104262,
     "user": {
      "displayName": "mirza rahim",
      "photoUrl": "https://lh3.googleusercontent.com/a-/AAuE7mB54HaePestI8j3iOrluydVk9FOMKwBnb28JlbkXw=s64",
      "userId": "17996492240964476391"
     },
     "user_tz": -330
    },
    "id": "_Yiecp9I9aEH",
    "outputId": "7b35dc9e-6195-47c8-e384-319e992d99a1"
   },
   "outputs": [
    {
     "name": "stdout",
     "output_type": "stream",
     "text": [
      "Model: \"sequential_2\"\n",
      "_________________________________________________________________\n",
      "Layer (type)                 Output Shape              Param #   \n",
      "=================================================================\n",
      "embedding_1 (Embedding)      (None, None, 32)          256000    \n",
      "_________________________________________________________________\n",
      "spatial_dropout1d_1 (Spatial (None, None, 32)          0         \n",
      "_________________________________________________________________\n",
      "simple_rnn (SimpleRNN)       (None, 32)                2080      \n",
      "_________________________________________________________________\n",
      "dropout_1 (Dropout)          (None, 32)                0         \n",
      "_________________________________________________________________\n",
      "dense_1 (Dense)              (None, 1)                 33        \n",
      "=================================================================\n",
      "Total params: 258,113\n",
      "Trainable params: 258,113\n",
      "Non-trainable params: 0\n",
      "_________________________________________________________________\n"
     ]
    }
   ],
   "source": [
    "model_rnn.summary()"
   ]
  },
  {
   "cell_type": "markdown",
   "metadata": {},
   "source": [
    "5. Fit the model on the train data with a batch size of 128 for 10 epochs (both of these are hyper-parameters that you can tune). "
   ]
  },
  {
   "cell_type": "code",
   "execution_count": 38,
   "metadata": {
    "colab": {
     "base_uri": "https://localhost:8080/",
     "height": 390
    },
    "colab_type": "code",
    "executionInfo": {
     "elapsed": 92399,
     "status": "ok",
     "timestamp": 1582293212164,
     "user": {
      "displayName": "mirza rahim",
      "photoUrl": "https://lh3.googleusercontent.com/a-/AAuE7mB54HaePestI8j3iOrluydVk9FOMKwBnb28JlbkXw=s64",
      "userId": "17996492240964476391"
     },
     "user_tz": -330
    },
    "id": "AZ3M8eCBsMJE",
    "outputId": "b25acea6-76ac-4576-c7ee-0a66ee700dda"
   },
   "outputs": [
    {
     "name": "stdout",
     "output_type": "stream",
     "text": [
      "Train on 20000 samples, validate on 5000 samples\n",
      "Epoch 1/10\n",
      "20000/20000 [==============================] - 10s 479us/sample - loss: 0.6924 - acc: 0.5204 - val_loss: 0.6792 - val_acc: 0.5700\n",
      "Epoch 2/10\n",
      "20000/20000 [==============================] - 9s 465us/sample - loss: 0.5819 - acc: 0.7024 - val_loss: 0.4309 - val_acc: 0.8258\n",
      "Epoch 3/10\n",
      "20000/20000 [==============================] - 9s 451us/sample - loss: 0.4102 - acc: 0.8310 - val_loss: 0.4229 - val_acc: 0.8124\n",
      "Epoch 4/10\n",
      "20000/20000 [==============================] - 9s 452us/sample - loss: 0.3330 - acc: 0.8651 - val_loss: 0.3989 - val_acc: 0.8204\n",
      "Epoch 5/10\n",
      "20000/20000 [==============================] - 9s 459us/sample - loss: 0.2894 - acc: 0.8865 - val_loss: 0.3850 - val_acc: 0.8290\n",
      "Epoch 6/10\n",
      "20000/20000 [==============================] - 9s 453us/sample - loss: 0.2532 - acc: 0.9022 - val_loss: 0.3756 - val_acc: 0.8462\n",
      "Epoch 7/10\n",
      "20000/20000 [==============================] - 9s 438us/sample - loss: 0.2240 - acc: 0.9171 - val_loss: 0.5079 - val_acc: 0.7708\n",
      "Epoch 8/10\n",
      "20000/20000 [==============================] - 9s 456us/sample - loss: 0.1995 - acc: 0.9262 - val_loss: 0.5041 - val_acc: 0.7828\n",
      "Epoch 9/10\n",
      "20000/20000 [==============================] - 9s 452us/sample - loss: 0.1807 - acc: 0.9327 - val_loss: 0.5454 - val_acc: 0.7642\n",
      "Epoch 10/10\n",
      "20000/20000 [==============================] - 9s 439us/sample - loss: 0.1627 - acc: 0.9420 - val_loss: 0.4306 - val_acc: 0.8606\n"
     ]
    }
   ],
   "source": [
    "history_rnn = model_rnn.fit(X_train, y_train, batch_size=128, validation_split=0.2, epochs = 10)"
   ]
  },
  {
   "cell_type": "markdown",
   "metadata": {},
   "source": [
    "6. Make predictions on the test data using the predict_classes method of the model and use accuract accuracy_score method from sklearn."
   ]
  },
  {
   "cell_type": "code",
   "execution_count": 0,
   "metadata": {
    "colab": {},
    "colab_type": "code",
    "id": "qYMrl2idsMJK"
   },
   "outputs": [],
   "source": [
    "y_test_pred = model_rnn.predict_classes(X_test)"
   ]
  },
  {
   "cell_type": "code",
   "execution_count": 0,
   "metadata": {
    "colab": {},
    "colab_type": "code",
    "id": "z7N3UHiJsMIQ"
   },
   "outputs": [],
   "source": [
    "from sklearn.metrics import accuracy_score"
   ]
  },
  {
   "cell_type": "code",
   "execution_count": 48,
   "metadata": {
    "colab": {
     "base_uri": "https://localhost:8080/",
     "height": 34
    },
    "colab_type": "code",
    "executionInfo": {
     "elapsed": 1296,
     "status": "ok",
     "timestamp": 1582293327574,
     "user": {
      "displayName": "mirza rahim",
      "photoUrl": "https://lh3.googleusercontent.com/a-/AAuE7mB54HaePestI8j3iOrluydVk9FOMKwBnb28JlbkXw=s64",
      "userId": "17996492240964476391"
     },
     "user_tz": -330
    },
    "id": "_LPaIc2kB60f",
    "outputId": "5244afec-f790-4a6e-b32d-5469f6264795"
   },
   "outputs": [
    {
     "data": {
      "text/plain": [
       "0.85128"
      ]
     },
     "execution_count": 48,
     "metadata": {
      "tags": []
     },
     "output_type": "execute_result"
    }
   ],
   "source": [
    "print(accuracy_score(y_test, y_test_pred))"
   ]
  },
  {
   "cell_type": "markdown",
   "metadata": {
    "colab_type": "text",
    "id": "JEZZYqpEsMJl"
   },
   "source": [
    "### Exercise 6.x: LSTM based sentiment classification model"
   ]
  },
  {
   "cell_type": "markdown",
   "metadata": {},
   "source": [
    "1.\tImport the LSTM layer from Keras layers"
   ]
  },
  {
   "cell_type": "code",
   "execution_count": 0,
   "metadata": {
    "colab": {},
    "colab_type": "code",
    "id": "MKU9k7L8sMJo"
   },
   "outputs": [],
   "source": [
    "from tensorflow.keras.layers import LSTM"
   ]
  },
  {
   "cell_type": "markdown",
   "metadata": {
    "colab": {},
    "colab_type": "code",
    "id": "RoT0uFyEsMJt"
   },
   "source": [
    "2.\tInstantiate the sequential model, add the embedding layer with appropriate dimensions and add 40% spatial dropout"
   ]
  },
  {
   "cell_type": "code",
   "execution_count": null,
   "metadata": {
    "colab": {},
    "colab_type": "code",
    "id": "RoT0uFyEsMJt"
   },
   "outputs": [],
   "source": [
    "model_lstm = Sequential()\n",
    "model_lstm.add(Embedding(vocab_size, output_dim=32))\n",
    "model_lstm.add(SpatialDropout1D(0.4))"
   ]
  },
  {
   "cell_type": "markdown",
   "metadata": {
    "colab": {},
    "colab_type": "code",
    "id": "RoT0uFyEsMJt"
   },
   "source": [
    "3.\tAdd a LSTM layer with 32 cells."
   ]
  },
  {
   "cell_type": "code",
   "execution_count": null,
   "metadata": {},
   "outputs": [],
   "source": [
    "model_lstm.add(LSTM(32))"
   ]
  },
  {
   "cell_type": "markdown",
   "metadata": {},
   "source": [
    "4.\tAdd the dropout (40% dropout) and dense layers, compile the model and print the model summary"
   ]
  },
  {
   "cell_type": "code",
   "execution_count": null,
   "metadata": {},
   "outputs": [],
   "source": [
    "model_lstm.add(Dropout(0.4))\n",
    "model_lstm.add(Dense(1, activation='sigmoid'))\n",
    "\n",
    "model_lstm.compile(loss='binary_crossentropy',\n",
    "              optimizer='rmsprop',\n",
    "              metrics=['accuracy'])"
   ]
  },
  {
   "cell_type": "code",
   "execution_count": 52,
   "metadata": {
    "colab": {
     "base_uri": "https://localhost:8080/",
     "height": 319
    },
    "colab_type": "code",
    "executionInfo": {
     "elapsed": 1197,
     "status": "ok",
     "timestamp": 1582293349338,
     "user": {
      "displayName": "mirza rahim",
      "photoUrl": "https://lh3.googleusercontent.com/a-/AAuE7mB54HaePestI8j3iOrluydVk9FOMKwBnb28JlbkXw=s64",
      "userId": "17996492240964476391"
     },
     "user_tz": -330
    },
    "id": "jXSS5OyOd03R",
    "outputId": "fccd2a09-7a8a-4b10-afd5-3dbda5a0afdc"
   },
   "outputs": [
    {
     "name": "stdout",
     "output_type": "stream",
     "text": [
      "Model: \"sequential_4\"\n",
      "_________________________________________________________________\n",
      "Layer (type)                 Output Shape              Param #   \n",
      "=================================================================\n",
      "embedding_2 (Embedding)      (None, None, 32)          256000    \n",
      "_________________________________________________________________\n",
      "spatial_dropout1d_2 (Spatial (None, None, 32)          0         \n",
      "_________________________________________________________________\n",
      "lstm (LSTM)                  (None, 32)                8320      \n",
      "_________________________________________________________________\n",
      "dropout_2 (Dropout)          (None, 32)                0         \n",
      "_________________________________________________________________\n",
      "dense_2 (Dense)              (None, 1)                 33        \n",
      "=================================================================\n",
      "Total params: 264,353\n",
      "Trainable params: 264,353\n",
      "Non-trainable params: 0\n",
      "_________________________________________________________________\n"
     ]
    }
   ],
   "source": [
    "model_lstm.summary()"
   ]
  },
  {
   "cell_type": "markdown",
   "metadata": {},
   "source": [
    "5.\tFit on the training data for 5 epochs (gives best result for the model) with a batch size of 128."
   ]
  },
  {
   "cell_type": "code",
   "execution_count": 53,
   "metadata": {
    "colab": {
     "base_uri": "https://localhost:8080/",
     "height": 222
    },
    "colab_type": "code",
    "executionInfo": {
     "elapsed": 188292,
     "status": "ok",
     "timestamp": 1582293546983,
     "user": {
      "displayName": "mirza rahim",
      "photoUrl": "https://lh3.googleusercontent.com/a-/AAuE7mB54HaePestI8j3iOrluydVk9FOMKwBnb28JlbkXw=s64",
      "userId": "17996492240964476391"
     },
     "user_tz": -330
    },
    "id": "2pY5XoU2sMJz",
    "outputId": "14c376ae-523a-4458-e0dc-008b39aa868f"
   },
   "outputs": [
    {
     "name": "stdout",
     "output_type": "stream",
     "text": [
      "Train on 20000 samples, validate on 5000 samples\n",
      "Epoch 1/5\n",
      "20000/20000 [==============================] - 37s 2ms/sample - loss: 0.5569 - acc: 0.7070 - val_loss: 0.3665 - val_acc: 0.8546\n",
      "Epoch 2/5\n",
      "20000/20000 [==============================] - 37s 2ms/sample - loss: 0.3336 - acc: 0.8676 - val_loss: 0.3020 - val_acc: 0.8760\n",
      "Epoch 3/5\n",
      "20000/20000 [==============================] - 37s 2ms/sample - loss: 0.2695 - acc: 0.8954 - val_loss: 0.2859 - val_acc: 0.8794\n",
      "Epoch 4/5\n",
      "20000/20000 [==============================] - 37s 2ms/sample - loss: 0.2417 - acc: 0.9099 - val_loss: 0.3143 - val_acc: 0.8692\n",
      "Epoch 5/5\n",
      "20000/20000 [==============================] - 37s 2ms/sample - loss: 0.2173 - acc: 0.9207 - val_loss: 0.2886 - val_acc: 0.8788\n"
     ]
    }
   ],
   "source": [
    "history_lstm = model_lstm.fit(X_train, y_train, batch_size=128, validation_split=0.2, epochs=5)"
   ]
  },
  {
   "cell_type": "markdown",
   "metadata": {},
   "source": [
    "6.\tMake predictions on the test set and print the accuracy score"
   ]
  },
  {
   "cell_type": "code",
   "execution_count": 0,
   "metadata": {
    "colab": {},
    "colab_type": "code",
    "id": "do1S7DgwsMJ6"
   },
   "outputs": [],
   "source": [
    "y_test_pred = model_lstm.predict_classes(X_test)"
   ]
  },
  {
   "cell_type": "code",
   "execution_count": 56,
   "metadata": {
    "colab": {
     "base_uri": "https://localhost:8080/",
     "height": 34
    },
    "colab_type": "code",
    "executionInfo": {
     "elapsed": 1023,
     "status": "ok",
     "timestamp": 1582293614613,
     "user": {
      "displayName": "mirza rahim",
      "photoUrl": "https://lh3.googleusercontent.com/a-/AAuE7mB54HaePestI8j3iOrluydVk9FOMKwBnb28JlbkXw=s64",
      "userId": "17996492240964476391"
     },
     "user_tz": -330
    },
    "id": "3uhbw_LUk1t-",
    "outputId": "37ab7340-32ce-450f-baae-9534a80e3550"
   },
   "outputs": [
    {
     "name": "stdout",
     "output_type": "stream",
     "text": [
      "0.87032\n"
     ]
    }
   ],
   "source": [
    "print(accuracy_score(y_test, y_test_pred))"
   ]
  },
  {
   "cell_type": "markdown",
   "metadata": {
    "colab_type": "text",
    "id": "Yyzsib0i0Vmk"
   },
   "source": [
    "### Exercise 6.x: GRU based sentiment classification model"
   ]
  },
  {
   "cell_type": "markdown",
   "metadata": {},
   "source": [
    "1.\tImport the GRU layer from Keras layers"
   ]
  },
  {
   "cell_type": "code",
   "execution_count": 0,
   "metadata": {
    "colab": {},
    "colab_type": "code",
    "id": "Goen0NR3uueL"
   },
   "outputs": [],
   "source": [
    "from tensorflow.keras.layers import GRU"
   ]
  },
  {
   "cell_type": "markdown",
   "metadata": {},
   "source": [
    "2.\tInstantiate the sequential model, add the embedding layer with appropriate dimensions and add 40% spatial dropout"
   ]
  },
  {
   "cell_type": "code",
   "execution_count": null,
   "metadata": {
    "colab": {},
    "colab_type": "code",
    "id": "2A1Y2vOvuueQ"
   },
   "outputs": [],
   "source": [
    "model_gru = Sequential()\n",
    "model_gru.add(Embedding(vocab_size, output_dim=32))\n",
    "model_gru.add(SpatialDropout1D(0.4))"
   ]
  },
  {
   "cell_type": "markdown",
   "metadata": {},
   "source": [
    "3.\tAdd a GRU layer with 32 cells. Set the parameter reset_after to False (this is a minor TensorFlow 2 implementation detail, to maintain consistency with the implementation of plain RNNs and LSTMs)."
   ]
  },
  {
   "cell_type": "code",
   "execution_count": null,
   "metadata": {
    "colab": {},
    "colab_type": "code",
    "id": "2A1Y2vOvuueQ"
   },
   "outputs": [],
   "source": [
    "model_gru.add(GRU(32, reset_after=False))"
   ]
  },
  {
   "cell_type": "markdown",
   "metadata": {},
   "source": [
    "4. Add the dropout (40% dropout) and dense layers, compile the model and print the model summary"
   ]
  },
  {
   "cell_type": "code",
   "execution_count": 0,
   "metadata": {
    "colab": {},
    "colab_type": "code",
    "id": "2A1Y2vOvuueQ"
   },
   "outputs": [],
   "source": [
    "model_gru.add(Dropout(0.4))\n",
    "model_gru.add(Dense(1, activation='sigmoid'))\n",
    "\n",
    "model_gru.compile(loss='binary_crossentropy',\n",
    "              optimizer='rmsprop',\n",
    "              metrics=['accuracy'])"
   ]
  },
  {
   "cell_type": "code",
   "execution_count": 70,
   "metadata": {
    "colab": {
     "base_uri": "https://localhost:8080/",
     "height": 319
    },
    "colab_type": "code",
    "executionInfo": {
     "elapsed": 1255,
     "status": "ok",
     "timestamp": 1582293982039,
     "user": {
      "displayName": "mirza rahim",
      "photoUrl": "https://lh3.googleusercontent.com/a-/AAuE7mB54HaePestI8j3iOrluydVk9FOMKwBnb28JlbkXw=s64",
      "userId": "17996492240964476391"
     },
     "user_tz": -330
    },
    "id": "RoyCrxH1qArB",
    "outputId": "6027bfd6-4fb3-4d6e-e898-805e04617abd"
   },
   "outputs": [
    {
     "name": "stdout",
     "output_type": "stream",
     "text": [
      "Model: \"sequential_7\"\n",
      "_________________________________________________________________\n",
      "Layer (type)                 Output Shape              Param #   \n",
      "=================================================================\n",
      "embedding_4 (Embedding)      (None, None, 32)          256000    \n",
      "_________________________________________________________________\n",
      "spatial_dropout1d_4 (Spatial (None, None, 32)          0         \n",
      "_________________________________________________________________\n",
      "gru_1 (GRU)                  (None, 32)                6240      \n",
      "_________________________________________________________________\n",
      "dropout_4 (Dropout)          (None, 32)                0         \n",
      "_________________________________________________________________\n",
      "dense_4 (Dense)              (None, 1)                 33        \n",
      "=================================================================\n",
      "Total params: 262,273\n",
      "Trainable params: 262,273\n",
      "Non-trainable params: 0\n",
      "_________________________________________________________________\n"
     ]
    }
   ],
   "source": [
    "model_gru.summary()"
   ]
  },
  {
   "cell_type": "markdown",
   "metadata": {},
   "source": [
    "5. Fit on the training data for 4 epochs (which gives us the best result)"
   ]
  },
  {
   "cell_type": "code",
   "execution_count": 71,
   "metadata": {
    "colab": {
     "base_uri": "https://localhost:8080/",
     "height": 188
    },
    "colab_type": "code",
    "executionInfo": {
     "elapsed": 124619,
     "status": "ok",
     "timestamp": 1582294111635,
     "user": {
      "displayName": "mirza rahim",
      "photoUrl": "https://lh3.googleusercontent.com/a-/AAuE7mB54HaePestI8j3iOrluydVk9FOMKwBnb28JlbkXw=s64",
      "userId": "17996492240964476391"
     },
     "user_tz": -330
    },
    "id": "qc3S-YGcuueS",
    "outputId": "60075798-f2ac-496e-8dee-169376355130"
   },
   "outputs": [
    {
     "name": "stdout",
     "output_type": "stream",
     "text": [
      "Train on 20000 samples, validate on 5000 samples\n",
      "Epoch 1/4\n",
      "20000/20000 [==============================] - 33s 2ms/sample - loss: 0.5554 - acc: 0.7007 - val_loss: 0.4152 - val_acc: 0.8116\n",
      "Epoch 2/4\n",
      "20000/20000 [==============================] - 30s 1ms/sample - loss: 0.3372 - acc: 0.8609 - val_loss: 0.3966 - val_acc: 0.8448\n",
      "Epoch 3/4\n",
      "20000/20000 [==============================] - 30s 2ms/sample - loss: 0.2766 - acc: 0.8904 - val_loss: 0.3375 - val_acc: 0.8656\n",
      "Epoch 4/4\n",
      "20000/20000 [==============================] - 30s 1ms/sample - loss: 0.2478 - acc: 0.9042 - val_loss: 0.2981 - val_acc: 0.8792\n"
     ]
    }
   ],
   "source": [
    "history_gru = model_gru.fit(X_train, y_train, batch_size=128, validation_split=0.2, epochs = 4)"
   ]
  },
  {
   "cell_type": "markdown",
   "metadata": {},
   "source": [
    "6. Make predictions on the test set and print the accuracy score"
   ]
  },
  {
   "cell_type": "code",
   "execution_count": 0,
   "metadata": {
    "colab": {},
    "colab_type": "code",
    "id": "KJVjdE3-uueU"
   },
   "outputs": [],
   "source": [
    "y_test_pred = model_gru.predict_classes(X_test)"
   ]
  },
  {
   "cell_type": "code",
   "execution_count": 74,
   "metadata": {
    "colab": {
     "base_uri": "https://localhost:8080/",
     "height": 34
    },
    "colab_type": "code",
    "executionInfo": {
     "elapsed": 127791,
     "status": "ok",
     "timestamp": 1582294127840,
     "user": {
      "displayName": "mirza rahim",
      "photoUrl": "https://lh3.googleusercontent.com/a-/AAuE7mB54HaePestI8j3iOrluydVk9FOMKwBnb28JlbkXw=s64",
      "userId": "17996492240964476391"
     },
     "user_tz": -330
    },
    "id": "1XhmgQdVsMKs",
    "outputId": "08612983-40b3-450b-b6da-6f61b0598992"
   },
   "outputs": [
    {
     "data": {
      "text/plain": [
       "0.87156"
      ]
     },
     "execution_count": 74,
     "metadata": {
      "tags": []
     },
     "output_type": "execute_result"
    }
   ],
   "source": [
    "accuracy_score(y_test, y_test_pred)"
   ]
  },
  {
   "cell_type": "markdown",
   "metadata": {
    "colab_type": "text",
    "id": "V4LEp8vE9vlJ"
   },
   "source": [
    "### Exercise 6.x: Bi-directional LSTM based sentiment classification model"
   ]
  },
  {
   "cell_type": "markdown",
   "metadata": {},
   "source": [
    "1.\tImport the Bidirectional layer from Keras layers. This layer is essentially a wrapper you can use other RNNs around."
   ]
  },
  {
   "cell_type": "code",
   "execution_count": 0,
   "metadata": {
    "colab": {},
    "colab_type": "code",
    "id": "YJWbU-VF9vlL"
   },
   "outputs": [],
   "source": [
    "from tensorflow.keras.layers import Bidirectional"
   ]
  },
  {
   "cell_type": "markdown",
   "metadata": {},
   "source": [
    "2.\tInstantiate the sequential model, add the embedding layer with appropriate dimensions and add 40% spatial dropout"
   ]
  },
  {
   "cell_type": "code",
   "execution_count": null,
   "metadata": {
    "colab": {},
    "colab_type": "code",
    "id": "VyvzqDuP9vlP"
   },
   "outputs": [],
   "source": [
    "model_bilstm = Sequential()\n",
    "model_bilstm.add(Embedding(vocab_size, output_dim=32))\n",
    "model_bilstm.add(SpatialDropout1D(0.4))"
   ]
  },
  {
   "cell_type": "markdown",
   "metadata": {},
   "source": [
    "3.\tAdd a Bidirectional wrapper on an LSTM layer with 32 cells"
   ]
  },
  {
   "cell_type": "code",
   "execution_count": null,
   "metadata": {
    "colab": {},
    "colab_type": "code",
    "id": "VyvzqDuP9vlP"
   },
   "outputs": [],
   "source": [
    "model_bilstm.add(Bidirectional(LSTM(32)))"
   ]
  },
  {
   "cell_type": "markdown",
   "metadata": {},
   "source": [
    "4.\tAdd the dropout (40% dropout) and dense layers, compile the model and print the model summary"
   ]
  },
  {
   "cell_type": "code",
   "execution_count": 0,
   "metadata": {
    "colab": {},
    "colab_type": "code",
    "id": "VyvzqDuP9vlP"
   },
   "outputs": [],
   "source": [
    "model_bilstm.add(Dropout(0.4))\n",
    "model_bilstm.add(Dense(1, activation='sigmoid'))\n",
    "\n",
    "model_bilstm.compile(loss='binary_crossentropy',\n",
    "              optimizer='rmsprop',\n",
    "              metrics=['accuracy'])"
   ]
  },
  {
   "cell_type": "code",
   "execution_count": 84,
   "metadata": {
    "colab": {
     "base_uri": "https://localhost:8080/",
     "height": 319
    },
    "colab_type": "code",
    "executionInfo": {
     "elapsed": 705,
     "status": "ok",
     "timestamp": 1582294573358,
     "user": {
      "displayName": "mirza rahim",
      "photoUrl": "https://lh3.googleusercontent.com/a-/AAuE7mB54HaePestI8j3iOrluydVk9FOMKwBnb28JlbkXw=s64",
      "userId": "17996492240964476391"
     },
     "user_tz": -330
    },
    "id": "imWOyTg2q8gV",
    "outputId": "d1d2685d-73b5-4376-f5c2-4b4599bd246d"
   },
   "outputs": [
    {
     "name": "stdout",
     "output_type": "stream",
     "text": [
      "Model: \"sequential_10\"\n",
      "_________________________________________________________________\n",
      "Layer (type)                 Output Shape              Param #   \n",
      "=================================================================\n",
      "embedding_6 (Embedding)      (None, None, 32)          256000    \n",
      "_________________________________________________________________\n",
      "spatial_dropout1d_6 (Spatial (None, None, 32)          0         \n",
      "_________________________________________________________________\n",
      "bidirectional_1 (Bidirection (None, 64)                16640     \n",
      "_________________________________________________________________\n",
      "dropout_6 (Dropout)          (None, 64)                0         \n",
      "_________________________________________________________________\n",
      "dense_6 (Dense)              (None, 1)                 65        \n",
      "=================================================================\n",
      "Total params: 272,705\n",
      "Trainable params: 272,705\n",
      "Non-trainable params: 0\n",
      "_________________________________________________________________\n"
     ]
    }
   ],
   "source": [
    "model_bilstm.summary()"
   ]
  },
  {
   "cell_type": "markdown",
   "metadata": {},
   "source": [
    "5.\tFit on the training data for 4 epochs, batch size 128"
   ]
  },
  {
   "cell_type": "code",
   "execution_count": 85,
   "metadata": {
    "colab": {
     "base_uri": "https://localhost:8080/",
     "height": 188
    },
    "colab_type": "code",
    "executionInfo": {
     "elapsed": 274103,
     "status": "ok",
     "timestamp": 1582294853605,
     "user": {
      "displayName": "mirza rahim",
      "photoUrl": "https://lh3.googleusercontent.com/a-/AAuE7mB54HaePestI8j3iOrluydVk9FOMKwBnb28JlbkXw=s64",
      "userId": "17996492240964476391"
     },
     "user_tz": -330
    },
    "id": "ujy6_1PU9vlQ",
    "outputId": "c20f9593-c54d-4cbf-dc66-c70ab166a18c"
   },
   "outputs": [
    {
     "name": "stdout",
     "output_type": "stream",
     "text": [
      "Train on 20000 samples, validate on 5000 samples\n",
      "Epoch 1/4\n",
      "20000/20000 [==============================] - 69s 3ms/sample - loss: 0.5722 - acc: 0.7048 - val_loss: 0.3745 - val_acc: 0.8472\n",
      "Epoch 2/4\n",
      "20000/20000 [==============================] - 67s 3ms/sample - loss: 0.3563 - acc: 0.8561 - val_loss: 0.3135 - val_acc: 0.8716\n",
      "Epoch 3/4\n",
      "20000/20000 [==============================] - 67s 3ms/sample - loss: 0.2833 - acc: 0.8929 - val_loss: 0.3043 - val_acc: 0.8740\n",
      "Epoch 4/4\n",
      "20000/20000 [==============================] - 67s 3ms/sample - loss: 0.2446 - acc: 0.9084 - val_loss: 0.2857 - val_acc: 0.8802\n"
     ]
    }
   ],
   "source": [
    "history_bilstm = model_bilstm.fit(X_train, y_train, batch_size=128, validation_split=0.2, epochs = 4)"
   ]
  },
  {
   "cell_type": "markdown",
   "metadata": {},
   "source": [
    "6.\tMake predictions on the test set and print the accuracy score"
   ]
  },
  {
   "cell_type": "code",
   "execution_count": 0,
   "metadata": {
    "colab": {},
    "colab_type": "code",
    "id": "Zv0Wz9X3rsM0"
   },
   "outputs": [],
   "source": [
    "y_test_pred = model_bilstm.predict_classes(X_test)"
   ]
  },
  {
   "cell_type": "code",
   "execution_count": 88,
   "metadata": {
    "colab": {
     "base_uri": "https://localhost:8080/",
     "height": 34
    },
    "colab_type": "code",
    "executionInfo": {
     "elapsed": 294140,
     "status": "ok",
     "timestamp": 1582294885678,
     "user": {
      "displayName": "mirza rahim",
      "photoUrl": "https://lh3.googleusercontent.com/a-/AAuE7mB54HaePestI8j3iOrluydVk9FOMKwBnb28JlbkXw=s64",
      "userId": "17996492240964476391"
     },
     "user_tz": -330
    },
    "id": "f5W6wArirr_n",
    "outputId": "59bf7b54-56d9-4080-d5bd-66dd20bb6510"
   },
   "outputs": [
    {
     "data": {
      "text/plain": [
       "0.877"
      ]
     },
     "execution_count": 88,
     "metadata": {
      "tags": []
     },
     "output_type": "execute_result"
    }
   ],
   "source": [
    "accuracy_score(y_test, y_test_pred)"
   ]
  },
  {
   "cell_type": "markdown",
   "metadata": {
    "colab_type": "text",
    "id": "t8KSaCNgsMKw"
   },
   "source": [
    "### Exercise 6.x: Stacked LSTM based sentiment classification model"
   ]
  },
  {
   "cell_type": "markdown",
   "metadata": {},
   "source": [
    "1.\tInstantiate the sequential model, add the embedding layer with appropriate dimensions and add 40% spatial dropout"
   ]
  },
  {
   "cell_type": "code",
   "execution_count": null,
   "metadata": {
    "colab": {
     "base_uri": "https://localhost:8080/",
     "height": 353
    },
    "colab_type": "code",
    "executionInfo": {
     "elapsed": 1792,
     "status": "ok",
     "timestamp": 1582296041495,
     "user": {
      "displayName": "mirza rahim",
      "photoUrl": "https://lh3.googleusercontent.com/a-/AAuE7mB54HaePestI8j3iOrluydVk9FOMKwBnb28JlbkXw=s64",
      "userId": "17996492240964476391"
     },
     "user_tz": -330
    },
    "id": "wkEljoMtw8VH",
    "outputId": "b522a857-e37b-4cbd-cfef-6034508d72b1"
   },
   "outputs": [],
   "source": [
    "model_stack = Sequential()\n",
    "model_stack.add(Embedding(vocab_size, output_dim=32))\n",
    "model_stack.add(SpatialDropout1D(0.4))"
   ]
  },
  {
   "cell_type": "markdown",
   "metadata": {},
   "source": [
    "2.\tAdd a Bidirectional wrapper on an LSTM layer with 32 cells. Make sure the specify “return_sequences” as True in the LSTM layer. This would return the output of the LSTM at each time step, which can then be passed to the next LSTM layer."
   ]
  },
  {
   "cell_type": "code",
   "execution_count": null,
   "metadata": {
    "colab": {
     "base_uri": "https://localhost:8080/",
     "height": 353
    },
    "colab_type": "code",
    "executionInfo": {
     "elapsed": 1792,
     "status": "ok",
     "timestamp": 1582296041495,
     "user": {
      "displayName": "mirza rahim",
      "photoUrl": "https://lh3.googleusercontent.com/a-/AAuE7mB54HaePestI8j3iOrluydVk9FOMKwBnb28JlbkXw=s64",
      "userId": "17996492240964476391"
     },
     "user_tz": -330
    },
    "id": "wkEljoMtw8VH",
    "outputId": "b522a857-e37b-4cbd-cfef-6034508d72b1"
   },
   "outputs": [],
   "source": [
    "model_stack.add(LSTM(32, return_sequences=True))"
   ]
  },
  {
   "cell_type": "markdown",
   "metadata": {},
   "source": [
    "3.\tAdd a Bidirectional wrapper on an LSTM layer with 32 cells. This time, you don’t need to return sequences. You can either specify the return_sequences option to False, or skip it altogether (default value is False)."
   ]
  },
  {
   "cell_type": "code",
   "execution_count": null,
   "metadata": {
    "colab": {
     "base_uri": "https://localhost:8080/",
     "height": 353
    },
    "colab_type": "code",
    "executionInfo": {
     "elapsed": 1792,
     "status": "ok",
     "timestamp": 1582296041495,
     "user": {
      "displayName": "mirza rahim",
      "photoUrl": "https://lh3.googleusercontent.com/a-/AAuE7mB54HaePestI8j3iOrluydVk9FOMKwBnb28JlbkXw=s64",
      "userId": "17996492240964476391"
     },
     "user_tz": -330
    },
    "id": "wkEljoMtw8VH",
    "outputId": "b522a857-e37b-4cbd-cfef-6034508d72b1"
   },
   "outputs": [],
   "source": [
    "model_stack.add(LSTM(32, return_sequences=False))"
   ]
  },
  {
   "cell_type": "markdown",
   "metadata": {},
   "source": [
    "4.\tAdd the dropout (50% dropout, higher as we’re building a more complex model) and dense layers, compile the model and print the model summary"
   ]
  },
  {
   "cell_type": "code",
   "execution_count": 104,
   "metadata": {
    "colab": {
     "base_uri": "https://localhost:8080/",
     "height": 353
    },
    "colab_type": "code",
    "executionInfo": {
     "elapsed": 1792,
     "status": "ok",
     "timestamp": 1582296041495,
     "user": {
      "displayName": "mirza rahim",
      "photoUrl": "https://lh3.googleusercontent.com/a-/AAuE7mB54HaePestI8j3iOrluydVk9FOMKwBnb28JlbkXw=s64",
      "userId": "17996492240964476391"
     },
     "user_tz": -330
    },
    "id": "wkEljoMtw8VH",
    "outputId": "b522a857-e37b-4cbd-cfef-6034508d72b1"
   },
   "outputs": [
    {
     "name": "stdout",
     "output_type": "stream",
     "text": [
      "Model: \"sequential_14\"\n",
      "_________________________________________________________________\n",
      "Layer (type)                 Output Shape              Param #   \n",
      "=================================================================\n",
      "embedding_9 (Embedding)      (None, None, 32)          256000    \n",
      "_________________________________________________________________\n",
      "spatial_dropout1d_9 (Spatial (None, None, 32)          0         \n",
      "_________________________________________________________________\n",
      "lstm_7 (LSTM)                (None, None, 32)          8320      \n",
      "_________________________________________________________________\n",
      "lstm_8 (LSTM)                (None, 32)                8320      \n",
      "_________________________________________________________________\n",
      "dropout_9 (Dropout)          (None, 32)                0         \n",
      "_________________________________________________________________\n",
      "dense_9 (Dense)              (None, 1)                 33        \n",
      "=================================================================\n",
      "Total params: 272,673\n",
      "Trainable params: 272,673\n",
      "Non-trainable params: 0\n",
      "_________________________________________________________________\n"
     ]
    }
   ],
   "source": [
    "model_stack.add(Dropout(0.5))\n",
    "model_stack.add(Dense(1, activation='sigmoid'))\n",
    "\n",
    "model_stack.compile(loss='binary_crossentropy',\n",
    "              optimizer='rmsprop',\n",
    "              metrics=['accuracy'])\n",
    "\n",
    "model_stack.summary()"
   ]
  },
  {
   "cell_type": "markdown",
   "metadata": {},
   "source": [
    "5.\tFit on the training data for 4 epochs "
   ]
  },
  {
   "cell_type": "code",
   "execution_count": 105,
   "metadata": {
    "colab": {
     "base_uri": "https://localhost:8080/",
     "height": 188
    },
    "colab_type": "code",
    "executionInfo": {
     "elapsed": 297643,
     "status": "ok",
     "timestamp": 1582296337403,
     "user": {
      "displayName": "mirza rahim",
      "photoUrl": "https://lh3.googleusercontent.com/a-/AAuE7mB54HaePestI8j3iOrluydVk9FOMKwBnb28JlbkXw=s64",
      "userId": "17996492240964476391"
     },
     "user_tz": -330
    },
    "id": "6yFRu6wIsMK9",
    "outputId": "fd610b29-b559-499c-ff11-e453f426f0be"
   },
   "outputs": [
    {
     "name": "stdout",
     "output_type": "stream",
     "text": [
      "Train on 20000 samples, validate on 5000 samples\n",
      "Epoch 1/4\n",
      "20000/20000 [==============================] - 76s 4ms/sample - loss: 0.5237 - acc: 0.7286 - val_loss: 0.3558 - val_acc: 0.8552\n",
      "Epoch 2/4\n",
      "20000/20000 [==============================] - 72s 4ms/sample - loss: 0.3284 - acc: 0.8687 - val_loss: 0.3360 - val_acc: 0.8702\n",
      "Epoch 3/4\n",
      "20000/20000 [==============================] - 72s 4ms/sample - loss: 0.2742 - acc: 0.8944 - val_loss: 0.3436 - val_acc: 0.8666\n",
      "Epoch 4/4\n",
      "20000/20000 [==============================] - 72s 4ms/sample - loss: 0.2354 - acc: 0.9096 - val_loss: 0.2827 - val_acc: 0.8826\n"
     ]
    }
   ],
   "source": [
    "history_stack = model_stack.fit(X_train, y_train, batch_size=128, validation_split=0.2, epochs = 4)"
   ]
  },
  {
   "cell_type": "markdown",
   "metadata": {},
   "source": [
    "6.\tMake predictions on the test set and print the accuracy score"
   ]
  },
  {
   "cell_type": "code",
   "execution_count": 0,
   "metadata": {
    "colab": {},
    "colab_type": "code",
    "id": "bLBHL3QmsMLD"
   },
   "outputs": [],
   "source": [
    "y_test_pred = model_stack.predict_classes(X_test)"
   ]
  },
  {
   "cell_type": "code",
   "execution_count": 108,
   "metadata": {
    "colab": {
     "base_uri": "https://localhost:8080/",
     "height": 34
    },
    "colab_type": "code",
    "executionInfo": {
     "elapsed": 332868,
     "status": "ok",
     "timestamp": 1582296372652,
     "user": {
      "displayName": "mirza rahim",
      "photoUrl": "https://lh3.googleusercontent.com/a-/AAuE7mB54HaePestI8j3iOrluydVk9FOMKwBnb28JlbkXw=s64",
      "userId": "17996492240964476391"
     },
     "user_tz": -330
    },
    "id": "6pXgTY5GsMLO",
    "outputId": "cb1cad43-90e3-4449-cda8-d1233ff160c3"
   },
   "outputs": [
    {
     "data": {
      "text/plain": [
       "0.87572"
      ]
     },
     "execution_count": 108,
     "metadata": {
      "tags": []
     },
     "output_type": "execute_result"
    }
   ],
   "source": [
    "accuracy_score(y_test, y_test_pred)"
   ]
  }
 ],
 "metadata": {
  "colab": {
   "collapsed_sections": [],
   "name": "06 RNNs on steroids v0.21.ipynb",
   "provenance": []
  },
  "kernelspec": {
   "display_name": "Python 3",
   "language": "python",
   "name": "python3"
  },
  "language_info": {
   "codemirror_mode": {
    "name": "ipython",
    "version": 3
   },
   "file_extension": ".py",
   "mimetype": "text/x-python",
   "name": "python",
   "nbconvert_exporter": "python",
   "pygments_lexer": "ipython3",
   "version": "3.6.5"
  }
 },
 "nbformat": 4,
 "nbformat_minor": 1
}
