{
 "cells": [
  {
   "cell_type": "markdown",
   "metadata": {},
   "source": [
    "### Activity 7.01 : Building DCGAN for MNIST FASHION"
   ]
  },
  {
   "cell_type": "code",
   "execution_count": 1,
   "metadata": {},
   "outputs": [],
   "source": [
    "# Import the required library functions\n",
    "import numpy as np\n",
    "import matplotlib.pyplot as plt\n",
    "from matplotlib import pyplot\n",
    "import tensorflow as tf\n",
    "from tensorflow.keras.layers import Input\n",
    "from tensorflow.keras.initializers import RandomNormal\n",
    "from tensorflow.keras.models import Model, Sequential\n",
    "from tensorflow.keras.layers import Reshape, Dense, Dropout, Flatten\n",
    "from tensorflow.keras.layers import LeakyReLU,BatchNormalization\n",
    "from tensorflow.keras.layers import Conv2D, UpSampling2D,Conv2DTranspose\n",
    "from tensorflow.keras.datasets import fashion_mnist\n",
    "from tensorflow.keras.optimizers import Adam"
   ]
  },
  {
   "cell_type": "code",
   "execution_count": 2,
   "metadata": {},
   "outputs": [],
   "source": [
    "# Function to generate real data samples\n",
    "def realData(batch):\n",
    "    # Get the MNIST data \n",
    "    (X_train, _), (_, _) = fashion_mnist.load_data()\n",
    "    # Reshaping the input data to include channel\n",
    "    X = X_train[:,:,:,np.newaxis]\n",
    "    # normalising the data to be between 0 and 1\n",
    "    X = X.astype('float32')/255.0\n",
    "    # Generating a batch of data\n",
    "    imageBatch = X[np.random.randint(0, X.shape[0], size=batch)]\n",
    "    return imageBatch\n",
    "    "
   ]
  },
  {
   "cell_type": "code",
   "execution_count": 4,
   "metadata": {},
   "outputs": [
    {
     "name": "stdout",
     "output_type": "stream",
     "text": [
      "Downloading data from https://storage.googleapis.com/tensorflow/tf-keras-datasets/train-labels-idx1-ubyte.gz\n",
      "32768/29515 [=================================] - 0s 8us/step\n",
      "Downloading data from https://storage.googleapis.com/tensorflow/tf-keras-datasets/train-images-idx3-ubyte.gz\n",
      "26427392/26421880 [==============================] - 17s 1us/step\n",
      "Downloading data from https://storage.googleapis.com/tensorflow/tf-keras-datasets/t10k-labels-idx1-ubyte.gz\n",
      "8192/5148 [===============================================] - 0s 0us/step\n",
      "Downloading data from https://storage.googleapis.com/tensorflow/tf-keras-datasets/t10k-images-idx3-ubyte.gz\n",
      "4423680/4422102 [==============================] - 8s 2us/step\n"
     ]
    }
   ],
   "source": [
    "# Generating one sample of the data\n",
    "fashionData = realData(2)"
   ]
  },
  {
   "cell_type": "code",
   "execution_count": 6,
   "metadata": {},
   "outputs": [
    {
     "data": {
      "text/plain": [
       "<matplotlib.image.AxesImage at 0x2034ff4f4c8>"
      ]
     },
     "execution_count": 6,
     "metadata": {},
     "output_type": "execute_result"
    },
    {
     "data": {
      "image/png": "[encoded data removed]",
      "text/plain": [
       "<Figure size 432x288 with 1 Axes>"
      ]
     },
     "metadata": {
      "needs_background": "light"
     },
     "output_type": "display_data"
    }
   ],
   "source": [
    "# Plot the image\n",
    "plt.imshow(fashionData[1, :, :, 0], cmap='gray_r')"
   ]
  },
  {
   "cell_type": "code",
   "execution_count": 7,
   "metadata": {},
   "outputs": [],
   "source": [
    "# Function to generate inputs for generator function\n",
    "def fakeInputs(batch,infeats):\n",
    "    # Generate random noise data with shape (batch,input features)\n",
    "    x_fake = np.random.normal(0,1,size=[batch,infeats])\n",
    "    return x_fake"
   ]
  },
  {
   "cell_type": "code",
   "execution_count": 8,
   "metadata": {},
   "outputs": [],
   "source": [
    "# Function for the generator model\n",
    "def genModel(infeats):\n",
    "    # Defining the Generator model\n",
    "    Genmodel = Sequential()\n",
    "    Genmodel.add(Dense(128*7*7,input_dim=infeats))\n",
    "    Genmodel.add(LeakyReLU(0.2))\n",
    "    Genmodel.add(Reshape((7, 7, 128)))\n",
    "    # Upsample to 14 x 14\n",
    "    Genmodel.add(Conv2DTranspose(128,kernel_size=(4,4),strides=(2,2),padding='same'))    \n",
    "    Genmodel.add(LeakyReLU(0.2))\n",
    "    # Updample to 28 x 28\n",
    "    Genmodel.add(Conv2DTranspose(128,kernel_size=(4,4),strides=(2,2),padding='same'))    \n",
    "    Genmodel.add(LeakyReLU(0.2))\n",
    "    Genmodel.add(Conv2D(1, kernel_size=(7, 7), padding='same', activation='sigmoid'))\n",
    "    return Genmodel\n",
    "\n"
   ]
  },
  {
   "cell_type": "code",
   "execution_count": 9,
   "metadata": {},
   "outputs": [],
   "source": [
    "# Function to create fake samples using the generator model\n",
    "def fakedataGenerator(Genmodel,batch,infeats):\n",
    "    # first generate the inputs to the model\n",
    "    genInputs = fakeInputs(batch,infeats)\n",
    "    # use these inputs inside the generator model to generate fake distribution\n",
    "    X_fake = Genmodel.predict(genInputs)   \n",
    "    \n",
    "    return X_fake"
   ]
  },
  {
   "cell_type": "code",
   "execution_count": 10,
   "metadata": {},
   "outputs": [
    {
     "name": "stdout",
     "output_type": "stream",
     "text": [
      "Model: \"sequential\"\n",
      "_________________________________________________________________\n",
      "Layer (type)                 Output Shape              Param #   \n",
      "=================================================================\n",
      "dense (Dense)                (None, 6272)              633472    \n",
      "_________________________________________________________________\n",
      "leaky_re_lu (LeakyReLU)      (None, 6272)              0         \n",
      "_________________________________________________________________\n",
      "reshape (Reshape)            (None, 7, 7, 128)         0         \n",
      "_________________________________________________________________\n",
      "conv2d_transpose (Conv2DTran (None, 14, 14, 128)       262272    \n",
      "_________________________________________________________________\n",
      "leaky_re_lu_1 (LeakyReLU)    (None, 14, 14, 128)       0         \n",
      "_________________________________________________________________\n",
      "conv2d_transpose_1 (Conv2DTr (None, 28, 28, 128)       262272    \n",
      "_________________________________________________________________\n",
      "leaky_re_lu_2 (LeakyReLU)    (None, 28, 28, 128)       0         \n",
      "_________________________________________________________________\n",
      "conv2d (Conv2D)              (None, 28, 28, 1)         6273      \n",
      "=================================================================\n",
      "Total params: 1,164,289\n",
      "Trainable params: 1,164,289\n",
      "Non-trainable params: 0\n",
      "_________________________________________________________________\n"
     ]
    }
   ],
   "source": [
    "# Define the arguments like batch size and input feature\n",
    "batch = 128\n",
    "infeats = 100\n",
    "Genmodel = genModel(infeats)\n",
    "Genmodel.summary()"
   ]
  },
  {
   "cell_type": "code",
   "execution_count": 11,
   "metadata": {},
   "outputs": [
    {
     "data": {
      "text/plain": [
       "(128, 28, 28, 1)"
      ]
     },
     "execution_count": 11,
     "metadata": {},
     "output_type": "execute_result"
    }
   ],
   "source": [
    "# Generating a fake sample and printing the shape\n",
    "fake = fakedataGenerator(Genmodel,batch,infeats)\n",
    "fake.shape"
   ]
  },
  {
   "cell_type": "code",
   "execution_count": 12,
   "metadata": {},
   "outputs": [
    {
     "data": {
      "text/plain": [
       "<matplotlib.image.AxesImage at 0x203502e16c8>"
      ]
     },
     "execution_count": 12,
     "metadata": {},
     "output_type": "execute_result"
    },
    {
     "data": {
      "image/png": "[encoded data removed]",
      "text/plain": [
       "<Figure size 432x288 with 1 Axes>"
      ]
     },
     "metadata": {
      "needs_background": "light"
     },
     "output_type": "display_data"
    }
   ],
   "source": [
    "# Plotting the fake sample\n",
    "\n",
    "plt.imshow(fake[1, :, :, 0], cmap='gray_r')"
   ]
  },
  {
   "cell_type": "code",
   "execution_count": 13,
   "metadata": {},
   "outputs": [],
   "source": [
    "# Descriminator model as a function\n",
    "def discModel():\n",
    "    Discmodel = Sequential()\n",
    "    Discmodel.add(Conv2D(64,kernel_size=(3,3),strides=(2,2),padding='same',input_shape=(28,28,1)))    \n",
    "    Discmodel.add(LeakyReLU(0.2))\n",
    "    Discmodel.add(Dropout(0.4))\n",
    "    Discmodel.add(Conv2D(64, kernel_size=(3,3), strides=(2, 2), padding='same'))   \n",
    "    Discmodel.add(LeakyReLU(0.2))\n",
    "    Discmodel.add(Dropout(0.4))\n",
    "    Discmodel.add(Flatten())\n",
    "    Discmodel.add(Dense(1, activation='sigmoid'))\n",
    "    Discmodel.compile(loss='binary_crossentropy', optimizer=Adam(lr=0.0002, beta_1=0.5),metrics=['accuracy'])   \n",
    "    return Discmodel "
   ]
  },
  {
   "cell_type": "code",
   "execution_count": 14,
   "metadata": {},
   "outputs": [
    {
     "name": "stdout",
     "output_type": "stream",
     "text": [
      "Model: \"sequential_1\"\n",
      "_________________________________________________________________\n",
      "Layer (type)                 Output Shape              Param #   \n",
      "=================================================================\n",
      "conv2d_1 (Conv2D)            (None, 14, 14, 64)        640       \n",
      "_________________________________________________________________\n",
      "leaky_re_lu_3 (LeakyReLU)    (None, 14, 14, 64)        0         \n",
      "_________________________________________________________________\n",
      "dropout (Dropout)            (None, 14, 14, 64)        0         \n",
      "_________________________________________________________________\n",
      "conv2d_2 (Conv2D)            (None, 7, 7, 64)          36928     \n",
      "_________________________________________________________________\n",
      "leaky_re_lu_4 (LeakyReLU)    (None, 7, 7, 64)          0         \n",
      "_________________________________________________________________\n",
      "dropout_1 (Dropout)          (None, 7, 7, 64)          0         \n",
      "_________________________________________________________________\n",
      "flatten (Flatten)            (None, 3136)              0         \n",
      "_________________________________________________________________\n",
      "dense_1 (Dense)              (None, 1)                 3137      \n",
      "=================================================================\n",
      "Total params: 40,705\n",
      "Trainable params: 40,705\n",
      "Non-trainable params: 0\n",
      "_________________________________________________________________\n"
     ]
    }
   ],
   "source": [
    "# Print the summary of the discriminator model\n",
    "Discmodel = discModel()\n",
    "Discmodel.summary()\n"
   ]
  },
  {
   "cell_type": "markdown",
   "metadata": {},
   "source": [
    "Next we develop the GAN model "
   ]
  },
  {
   "cell_type": "code",
   "execution_count": 15,
   "metadata": {},
   "outputs": [],
   "source": [
    "# Define the combined generator and discriminator model, for updating the generator\n",
    "def ganModel(Genmodel,Discmodel):\n",
    "    # First define that discriminator model cannot be trained\n",
    "    Discmodel.trainable = False\n",
    "    Ganmodel = Sequential()\n",
    "    # First adding the generator model\n",
    "    Ganmodel.add(Genmodel)\n",
    "    # Next adding the discriminator model without training the parameters\n",
    "    Ganmodel.add(Discmodel)\n",
    "    # Compile the model for loss to optimise the Generator model\n",
    "    Ganmodel.compile(loss='binary_crossentropy',optimizer = Adam(lr=0.0002, beta_1=0.5))    \n",
    "    return Ganmodel"
   ]
  },
  {
   "cell_type": "code",
   "execution_count": 16,
   "metadata": {},
   "outputs": [
    {
     "name": "stdout",
     "output_type": "stream",
     "text": [
      "Model: \"sequential_2\"\n",
      "_________________________________________________________________\n",
      "Layer (type)                 Output Shape              Param #   \n",
      "=================================================================\n",
      "sequential (Sequential)      (None, 28, 28, 1)         1164289   \n",
      "_________________________________________________________________\n",
      "sequential_1 (Sequential)    (None, 1)                 40705     \n",
      "=================================================================\n",
      "Total params: 1,204,994\n",
      "Trainable params: 1,164,289\n",
      "Non-trainable params: 40,705\n",
      "_________________________________________________________________\n"
     ]
    }
   ],
   "source": [
    "# Initialise the gan model\n",
    "gan_model = ganModel(Genmodel,Discmodel)\n",
    "# Print summary of the GAN model\n",
    "gan_model.summary()"
   ]
  },
  {
   "cell_type": "code",
   "execution_count": 17,
   "metadata": {},
   "outputs": [],
   "source": [
    "# Defining the number of epochs\n",
    "nEpochs = 100"
   ]
  },
  {
   "cell_type": "code",
   "execution_count": 22,
   "metadata": {},
   "outputs": [
    {
     "name": "stdout",
     "output_type": "stream",
     "text": [
      "WARNING:tensorflow:Discrepancy between trainable weights and collected trainable weights, did you set `model.trainable` without calling `model.compile` after ?\n",
      "Discriminator probability:0.5570241808891296\n",
      "Discriminator probability:0.49632468819618225\n",
      "Discriminator probability:0.46051836013793945\n",
      "Discriminator probability:0.53398597240448\n",
      "Discriminator probability:0.5486909747123718\n",
      "Discriminator probability:0.3977210223674774\n",
      "Discriminator probability:0.5163196325302124\n",
      "Discriminator probability:0.5506702065467834\n",
      "Discriminator probability:0.43232065439224243\n",
      "Discriminator probability:0.44940024614334106\n"
     ]
    }
   ],
   "source": [
    "# Train the GAN network\n",
    "for i in range(nEpochs):\n",
    "    # Generate samples equal to the bath size from the real distribution\n",
    "    x_real = realData(batch)\n",
    "    # Generate fake samples using the fake data generator function\n",
    "    x_fake = fakedataGenerator(Genmodel,batch,infeats)\n",
    "    # Concatenating the real and fake data \n",
    "    X = np.concatenate([x_real,x_fake])\n",
    "    # Creating the dependent variable and initializing them as '0'\n",
    "    Y = np.zeros(batch * 2)\n",
    "    # making the first set equivalent to batch with labels 1\n",
    "    Y[:batch] = 1\n",
    "    # train the  discriminator on the real samples\n",
    "    discLoss = Discmodel.train_on_batch(X, Y)\n",
    "    # Generate new fake inputs for training the GAN network\n",
    "    x_gan = fakeInputs(batch*2,infeats)\n",
    "    # Create labels of the fake examples as 1 to fool the discriminator\n",
    "    y_gan = np.ones((batch*2, 1))\n",
    "    # Update the generator model through the discriminator model\n",
    "    gan_model.train_on_batch(x_gan, y_gan)\n",
    "    # Print the accuracy measures on the real and fake data for every 10 epochs\n",
    "    if (i) % 10 == 0:\n",
    "        # Printing the descriminator loss and accuracy\n",
    "        x_real_test = realData(10)\n",
    "        x_fake_test = fakedataGenerator(Genmodel,10,infeats)\n",
    "        # Concatenating the real and fake data \n",
    "        X_test = np.concatenate([x_real_test,x_fake_test])\n",
    "        # Creating the dependent variable and initializing them as '0'\n",
    "        Y = np.zeros(20 * 2)\n",
    "        Y[:10] = 1\n",
    "        # Predicting probabilities\n",
    "        preds = Discmodel.predict_proba(X_test)\n",
    "        print('Discriminator probability:{D}'.format(D=np.mean(preds)))\n",
    "        # Generate fake samples using the fake data generator function\n",
    "        x_fake = fakedataGenerator(Genmodel,batch,infeats)\n",
    "        # Saving the plots\n",
    "        for j in range(5*5):\n",
    "            pyplot.subplot(5,5,j+1)\n",
    "            pyplot.imshow(x_fake[j,:,:,0],cmap='gray_r')             \n",
    "        filename = 'GAN_MNIST_Fashion_Training_Plot%03d.png' % (i+200)\n",
    "        pyplot.savefig(filename)\n",
    "        pyplot.close()\n",
    "            \n",
    "        \n"
   ]
  },
  {
   "cell_type": "code",
   "execution_count": null,
   "metadata": {},
   "outputs": [],
   "source": []
  }
 ],
 "metadata": {
  "kernelspec": {
   "display_name": "Python 3",
   "language": "python",
   "name": "python3"
  },
  "language_info": {
   "codemirror_mode": {
    "name": "ipython",
    "version": 3
   },
   "file_extension": ".py",
   "mimetype": "text/x-python",
   "name": "python",
   "nbconvert_exporter": "python",
   "pygments_lexer": "ipython3",
   "version": "3.7.4"
  }
 },
 "nbformat": 4,
 "nbformat_minor": 2
}
