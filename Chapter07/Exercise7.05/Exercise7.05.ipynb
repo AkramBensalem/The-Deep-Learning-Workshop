{
 "cells": [
  {
   "cell_type": "markdown",
   "metadata": {},
   "source": [
    "### Exercise 7.05 : Building DCGAN for MNIST"
   ]
  },
  {
   "cell_type": "code",
   "execution_count": 4,
   "metadata": {},
   "outputs": [],
   "source": [
    "# Import the required library functions\n",
    "import numpy as np\n",
    "import matplotlib.pyplot as plt\n",
    "from matplotlib import pyplot\n",
    "import tensorflow as tf\n",
    "from tensorflow.keras.layers import Input\n",
    "from tensorflow.keras.initializers import RandomNormal\n",
    "from tensorflow.keras.models import Model, Sequential\n",
    "from tensorflow.keras.layers import Reshape, Dense, Dropout, Flatten\n",
    "from tensorflow.keras.layers import LeakyReLU,BatchNormalization\n",
    "from tensorflow.keras.layers import Conv2D, UpSampling2D,Conv2DTranspose\n",
    "from tensorflow.keras.datasets import mnist\n",
    "from tensorflow.keras.optimizers import Adam"
   ]
  },
  {
   "cell_type": "code",
   "execution_count": 5,
   "metadata": {},
   "outputs": [],
   "source": [
    "# Function to generate real data samples\n",
    "def realData(batch):\n",
    "    # Get the MNIST data \n",
    "    (X_train, _), (_, _) = mnist.load_data()\n",
    "    # Reshaping the input data to include channel\n",
    "    X = X_train[:,:,:,np.newaxis]\n",
    "    # normalising the data to be between 0 and 1\n",
    "    X = X.astype('float32')/255.0\n",
    "    # Generating a batch of data\n",
    "    imageBatch = X[np.random.randint(0, X.shape[0], size=batch)]\n",
    "    return imageBatch\n",
    "    "
   ]
  },
  {
   "cell_type": "code",
   "execution_count": 6,
   "metadata": {},
   "outputs": [
    {
     "data": {
      "text/plain": [
       "<matplotlib.image.AxesImage at 0x2bc92f56d88>"
      ]
     },
     "execution_count": 6,
     "metadata": {},
     "output_type": "execute_result"
    },
    {
     "data": {
      "image/png": "[encoded data removed]",
      "text/plain": [
       "<Figure size 432x288 with 1 Axes>"
      ]
     },
     "metadata": {
      "needs_background": "light"
     },
     "output_type": "display_data"
    }
   ],
   "source": [
    "# Generating an image and plotting the same\n",
    "mnistData = realData(1)\n",
    "# Plotting the image\n",
    "plt.imshow(mnistData[0, :, :, 0], cmap='gray_r')"
   ]
  },
  {
   "cell_type": "code",
   "execution_count": 7,
   "metadata": {},
   "outputs": [],
   "source": [
    "# Function to generate inputs for generator function\n",
    "def fakeInputs(batch,infeats):\n",
    "    # Generate random noise data with shape (batch,input features)\n",
    "    x_fake = np.random.normal(0,1,size=[batch,infeats])\n",
    "    return x_fake"
   ]
  },
  {
   "cell_type": "code",
   "execution_count": 8,
   "metadata": {},
   "outputs": [],
   "source": [
    "# Function for the generator model\n",
    "def genModel(infeats):\n",
    "    Genmodel = Sequential()\n",
    "    # Generating the dense layer\n",
    "    Genmodel.add(Dense(128*7*7, input_dim=infeats, kernel_initializer=RandomNormal(stddev=0.02)))\n",
    "    Genmodel.add(LeakyReLU(0.2))\n",
    "    # Reshaping the input to the format we want\n",
    "    Genmodel.add(Reshape((7, 7,128)))\n",
    "    # Upsampling to 14 x 14\n",
    "    Genmodel.add(UpSampling2D(size=(2, 2)))\n",
    "    Genmodel.add(Conv2D(64, kernel_size=(5, 5), padding='same'))\n",
    "    Genmodel.add(LeakyReLU(0.2))\n",
    "    # Upsampling to 28 x 28\n",
    "    Genmodel.add(UpSampling2D(size=(2, 2)))\n",
    "    Genmodel.add(Conv2D(1, kernel_size=(5, 5), padding='same', activation='sigmoid'))\n",
    "    return Genmodel"
   ]
  },
  {
   "cell_type": "code",
   "execution_count": 9,
   "metadata": {},
   "outputs": [],
   "source": [
    "# Function to create fake samples using the generator model\n",
    "def fakedataGenerator(Genmodel,batch,infeats):\n",
    "    # first generate the inputs to the model\n",
    "    genInputs = fakeInputs(batch,infeats)\n",
    "    # use these inputs inside the generator model to generate fake distribution\n",
    "    X_fake = Genmodel.predict(genInputs)   \n",
    "    \n",
    "    return X_fake"
   ]
  },
  {
   "cell_type": "code",
   "execution_count": 10,
   "metadata": {},
   "outputs": [
    {
     "name": "stdout",
     "output_type": "stream",
     "text": [
      "Model: \"sequential\"\n",
      "_________________________________________________________________\n",
      "Layer (type)                 Output Shape              Param #   \n",
      "=================================================================\n",
      "dense (Dense)                (None, 6272)              633472    \n",
      "_________________________________________________________________\n",
      "leaky_re_lu (LeakyReLU)      (None, 6272)              0         \n",
      "_________________________________________________________________\n",
      "reshape (Reshape)            (None, 7, 7, 128)         0         \n",
      "_________________________________________________________________\n",
      "up_sampling2d (UpSampling2D) (None, 14, 14, 128)       0         \n",
      "_________________________________________________________________\n",
      "conv2d (Conv2D)              (None, 14, 14, 64)        204864    \n",
      "_________________________________________________________________\n",
      "leaky_re_lu_1 (LeakyReLU)    (None, 14, 14, 64)        0         \n",
      "_________________________________________________________________\n",
      "up_sampling2d_1 (UpSampling2 (None, 28, 28, 64)        0         \n",
      "_________________________________________________________________\n",
      "conv2d_1 (Conv2D)            (None, 28, 28, 1)         1601      \n",
      "=================================================================\n",
      "Total params: 839,937\n",
      "Trainable params: 839,937\n",
      "Non-trainable params: 0\n",
      "_________________________________________________________________\n"
     ]
    }
   ],
   "source": [
    "# Define the arguments like batch size and input feature\n",
    "batch = 128\n",
    "infeats = 100\n",
    "Genmodel = genModel(infeats)\n",
    "Genmodel.summary()"
   ]
  },
  {
   "cell_type": "code",
   "execution_count": 11,
   "metadata": {},
   "outputs": [
    {
     "data": {
      "text/plain": [
       "(128, 28, 28, 1)"
      ]
     },
     "execution_count": 11,
     "metadata": {},
     "output_type": "execute_result"
    }
   ],
   "source": [
    "# Generating a fake sample and printing the shape\n",
    "fake = fakedataGenerator(Genmodel,batch,infeats)\n",
    "fake.shape"
   ]
  },
  {
   "cell_type": "code",
   "execution_count": 13,
   "metadata": {},
   "outputs": [
    {
     "data": {
      "text/plain": [
       "Text(0.5, 0, 'Fake Sample Image')"
      ]
     },
     "execution_count": 13,
     "metadata": {},
     "output_type": "execute_result"
    },
    {
     "data": {
      "image/png": "[encoded data removed]",
      "text/plain": [
       "<Figure size 432x288 with 1 Axes>"
      ]
     },
     "metadata": {
      "needs_background": "light"
     },
     "output_type": "display_data"
    }
   ],
   "source": [
    "# Plotting the fake sample\n",
    "\n",
    "plt.imshow(fake[1, :, :, 0], cmap='gray_r')\n",
    "plt.xlabel('Fake Sample Image') "
   ]
  },
  {
   "cell_type": "code",
   "execution_count": 14,
   "metadata": {},
   "outputs": [],
   "source": [
    "# Descriminator model as a function\n",
    "def discModel():\n",
    "    Discmodel = Sequential()\n",
    "    Discmodel.add(Conv2D(64, kernel_size=(5, 5), strides=(2, 2), padding='same', input_shape=(28, 28,1), kernel_initializer=RandomNormal(stddev=0.02)))\n",
    "    Discmodel.add(LeakyReLU(0.2))\n",
    "    Discmodel.add(Dropout(0.3))\n",
    "    Discmodel.add(Conv2D(128, kernel_size=(5, 5), strides=(2, 2), padding='same'))\n",
    "    Discmodel.add(LeakyReLU(0.2))\n",
    "    Discmodel.add(Dropout(0.3))\n",
    "    Discmodel.add(Flatten())\n",
    "    Discmodel.add(Dense(1, activation='sigmoid'))\n",
    "    Discmodel.compile(loss='binary_crossentropy', optimizer=Adam(lr=0.0002, beta_1=0.5))\n",
    "    return Discmodel"
   ]
  },
  {
   "cell_type": "code",
   "execution_count": 15,
   "metadata": {},
   "outputs": [
    {
     "name": "stdout",
     "output_type": "stream",
     "text": [
      "Model: \"sequential_1\"\n",
      "_________________________________________________________________\n",
      "Layer (type)                 Output Shape              Param #   \n",
      "=================================================================\n",
      "conv2d_2 (Conv2D)            (None, 14, 14, 64)        1664      \n",
      "_________________________________________________________________\n",
      "leaky_re_lu_2 (LeakyReLU)    (None, 14, 14, 64)        0         \n",
      "_________________________________________________________________\n",
      "dropout (Dropout)            (None, 14, 14, 64)        0         \n",
      "_________________________________________________________________\n",
      "conv2d_3 (Conv2D)            (None, 7, 7, 128)         204928    \n",
      "_________________________________________________________________\n",
      "leaky_re_lu_3 (LeakyReLU)    (None, 7, 7, 128)         0         \n",
      "_________________________________________________________________\n",
      "dropout_1 (Dropout)          (None, 7, 7, 128)         0         \n",
      "_________________________________________________________________\n",
      "flatten (Flatten)            (None, 6272)              0         \n",
      "_________________________________________________________________\n",
      "dense_1 (Dense)              (None, 1)                 6273      \n",
      "=================================================================\n",
      "Total params: 212,865\n",
      "Trainable params: 212,865\n",
      "Non-trainable params: 0\n",
      "_________________________________________________________________\n"
     ]
    }
   ],
   "source": [
    "# Print the summary of the discriminator model\n",
    "Discmodel = discModel()\n",
    "Discmodel.summary()\n"
   ]
  },
  {
   "cell_type": "markdown",
   "metadata": {},
   "source": [
    "Next we develop the GAN model "
   ]
  },
  {
   "cell_type": "code",
   "execution_count": 16,
   "metadata": {},
   "outputs": [],
   "source": [
    "# Define the combined generator and discriminator model, for updating the generator\n",
    "def ganModel(Genmodel,Discmodel):\n",
    "    # First define that discriminator model cannot be trained\n",
    "    Discmodel.trainable = False\n",
    "    Ganmodel = Sequential()\n",
    "    # First adding the generator model\n",
    "    Ganmodel.add(Genmodel)\n",
    "    # Next adding the discriminator model without training the parameters\n",
    "    Ganmodel.add(Discmodel)\n",
    "    # Compile the model for loss to optimise the Generator model\n",
    "    Ganmodel.compile(loss='binary_crossentropy',optimizer = Adam(lr=0.0002, beta_1=0.5))    \n",
    "    return Ganmodel"
   ]
  },
  {
   "cell_type": "code",
   "execution_count": 17,
   "metadata": {},
   "outputs": [
    {
     "name": "stdout",
     "output_type": "stream",
     "text": [
      "Model: \"sequential_2\"\n",
      "_________________________________________________________________\n",
      "Layer (type)                 Output Shape              Param #   \n",
      "=================================================================\n",
      "sequential (Sequential)      (None, 28, 28, 1)         839937    \n",
      "_________________________________________________________________\n",
      "sequential_1 (Sequential)    (None, 1)                 212865    \n",
      "=================================================================\n",
      "Total params: 1,052,802\n",
      "Trainable params: 839,937\n",
      "Non-trainable params: 212,865\n",
      "_________________________________________________________________\n"
     ]
    }
   ],
   "source": [
    "# Initialise the gan model\n",
    "gan_model = ganModel(Genmodel,Discmodel)\n",
    "# Print summary of the GAN model\n",
    "gan_model.summary()"
   ]
  },
  {
   "cell_type": "code",
   "execution_count": 22,
   "metadata": {},
   "outputs": [],
   "source": [
    "# Defining the number of epochs\n",
    "nEpochs = 100"
   ]
  },
  {
   "cell_type": "code",
   "execution_count": 21,
   "metadata": {},
   "outputs": [
    {
     "name": "stdout",
     "output_type": "stream",
     "text": [
      "WARNING:tensorflow:Discrepancy between trainable weights and collected trainable weights, did you set `model.trainable` without calling `model.compile` after ?\n",
      "Discriminator probability:0.5382968187332153\n"
     ]
    }
   ],
   "source": [
    "# Train the GAN network\n",
    "for i in range(nEpochs):\n",
    "    # Generate samples equal to the bath size from the real distribution\n",
    "    x_real = realData(batch)\n",
    "    # Generate fake samples using the fake data generator function\n",
    "    x_fake = fakedataGenerator(Genmodel,batch,infeats)\n",
    "    # Concatenating the real and fake data \n",
    "    X = np.concatenate([x_real,x_fake])\n",
    "    # Creating the dependent variable and initializing them as '0'\n",
    "    Y = np.zeros(batch * 2)\n",
    "    # making the first set equivalent to batch with labels 1\n",
    "    Y[:batch] = 1\n",
    "    # train the  discriminator on the real samples\n",
    "    discLoss = Discmodel.train_on_batch(X, Y)\n",
    "    # Generate new fake inputs for training the GAN network\n",
    "    x_gan = fakeInputs(batch*2,infeats)\n",
    "    # Create labels of the fake examples as 1 to fool the discriminator\n",
    "    y_gan = np.ones((batch*2, 1))\n",
    "    # Update the generator model through the discriminator model\n",
    "    gan_model.train_on_batch(x_gan, y_gan)\n",
    "    # Print the accuracy measures on the real and fake data for every 10 epochs\n",
    "    if (i) % 10 == 0:\n",
    "        # Printing the descriminator loss and accuracy\n",
    "        x_real_test = realData(10)\n",
    "        x_fake_test = fakedataGenerator(Genmodel,10,infeats)\n",
    "        # Concatenating the real and fake data \n",
    "        X_test = np.concatenate([x_real_test,x_fake_test])\n",
    "        # Creating the dependent variable and initializing them as '0'\n",
    "        Y = np.zeros(20 * 2)\n",
    "        Y[:10] = 1\n",
    "        # Predicting probabilities\n",
    "        preds = Discmodel.predict_proba(X_test)\n",
    "        print('Discriminator probability:{D}'.format(D=np.mean(preds)))\n",
    "        # Generate fake samples using the fake data generator function\n",
    "        x_fake = fakedataGenerator(Genmodel,batch,infeats)\n",
    "        # Saving the plots\n",
    "        for j in range(5*5):\n",
    "            pyplot.subplot(5,5,j+1)\n",
    "            pyplot.imshow(x_fake[j,:,:,0],cmap='gray_r')                       \n",
    "        filename = 'GAN_MNIST_Training_Plot%03d.png' % (i+100)\n",
    "        pyplot.savefig(filename)\n",
    "        pyplot.close()\n",
    "            \n",
    "        \n"
   ]
  },
  {
   "cell_type": "code",
   "execution_count": null,
   "metadata": {},
   "outputs": [],
   "source": []
  }
 ],
 "metadata": {
  "kernelspec": {
   "display_name": "Python 3",
   "language": "python",
   "name": "python3"
  },
  "language_info": {
   "codemirror_mode": {
    "name": "ipython",
    "version": 3
   },
   "file_extension": ".py",
   "mimetype": "text/x-python",
   "name": "python",
   "nbconvert_exporter": "python",
   "pygments_lexer": "ipython3",
   "version": "3.7.4"
  }
 },
 "nbformat": 4,
 "nbformat_minor": 2
}
