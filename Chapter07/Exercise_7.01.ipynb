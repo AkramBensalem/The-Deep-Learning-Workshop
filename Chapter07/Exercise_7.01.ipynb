{
 "cells": [
  {
   "cell_type": "markdown",
   "metadata": {},
   "source": [
    "### Exercise 7.01 : Generating a data distribution from a known function\n",
    "\n",
    "In this exercise we will traverse different steps for generating a data distribution from a known function"
   ]
  },
  {
   "cell_type": "code",
   "execution_count": 1,
   "metadata": {},
   "outputs": [],
   "source": [
    "# Importing the necessary library packages\n",
    "import numpy as np\n"
   ]
  },
  {
   "cell_type": "code",
   "execution_count": 32,
   "metadata": {},
   "outputs": [
    {
     "data": {
      "text/plain": [
       "array([3.2829785])"
      ]
     },
     "execution_count": 32,
     "metadata": {},
     "output_type": "execute_result"
    }
   ],
   "source": [
    "# Generating a random number from a normal distribution with mean 3 and sd = 1\n",
    "\n",
    "loc = np.random.normal(3,1,1)\n",
    "loc"
   ]
  },
  {
   "cell_type": "code",
   "execution_count": 44,
   "metadata": {},
   "outputs": [],
   "source": [
    "loc = 2.64012718"
   ]
  },
  {
   "cell_type": "code",
   "execution_count": 45,
   "metadata": {},
   "outputs": [],
   "source": [
    "# Generate numbers to right of the random point\n",
    "xr = np.arange(loc,loc+(0.1*64),0.1)\n"
   ]
  },
  {
   "cell_type": "code",
   "execution_count": 46,
   "metadata": {},
   "outputs": [
    {
     "data": {
      "text/plain": [
       "64"
      ]
     },
     "execution_count": 46,
     "metadata": {},
     "output_type": "execute_result"
    }
   ],
   "source": [
    "len(xr)"
   ]
  },
  {
   "cell_type": "code",
   "execution_count": 34,
   "metadata": {},
   "outputs": [],
   "source": [
    "# Generate numbers to left of the random point\n",
    "xl = np.arange(loc-(0.1*64),loc,0.1)"
   ]
  },
  {
   "cell_type": "code",
   "execution_count": 35,
   "metadata": {},
   "outputs": [
    {
     "name": "stdout",
     "output_type": "stream",
     "text": [
      "[-3.1170215 -3.0170215 -2.9170215 -2.8170215 -2.7170215 -2.6170215\n",
      " -2.5170215 -2.4170215 -2.3170215 -2.2170215 -2.1170215 -2.0170215\n",
      " -1.9170215 -1.8170215 -1.7170215 -1.6170215 -1.5170215 -1.4170215\n",
      " -1.3170215 -1.2170215 -1.1170215 -1.0170215 -0.9170215 -0.8170215\n",
      " -0.7170215 -0.6170215 -0.5170215 -0.4170215 -0.3170215 -0.2170215\n",
      " -0.1170215 -0.0170215  0.0829785  0.1829785  0.2829785  0.3829785\n",
      "  0.4829785  0.5829785  0.6829785  0.7829785  0.8829785  0.9829785\n",
      "  1.0829785  1.1829785  1.2829785  1.3829785  1.4829785  1.5829785\n",
      "  1.6829785  1.7829785  1.8829785  1.9829785  2.0829785  2.1829785\n",
      "  2.2829785  2.3829785  2.4829785  2.5829785  2.6829785  2.7829785\n",
      "  2.8829785  2.9829785  3.0829785  3.1829785  3.2829785  3.3829785\n",
      "  3.4829785  3.5829785  3.6829785  3.7829785  3.8829785  3.9829785\n",
      "  4.0829785  4.1829785  4.2829785  4.3829785  4.4829785  4.5829785\n",
      "  4.6829785  4.7829785  4.8829785  4.9829785  5.0829785  5.1829785\n",
      "  5.2829785  5.3829785  5.4829785  5.5829785  5.6829785  5.7829785\n",
      "  5.8829785  5.9829785  6.0829785  6.1829785  6.2829785  6.3829785\n",
      "  6.4829785  6.5829785  6.6829785  6.7829785  6.8829785  6.9829785\n",
      "  7.0829785  7.1829785  7.2829785  7.3829785  7.4829785  7.5829785\n",
      "  7.6829785  7.7829785  7.8829785  7.9829785  8.0829785  8.1829785\n",
      "  8.2829785  8.3829785  8.4829785  8.5829785  8.6829785  8.7829785\n",
      "  8.8829785  8.9829785  9.0829785  9.1829785  9.2829785  9.3829785\n",
      "  9.4829785  9.5829785]\n"
     ]
    }
   ],
   "source": [
    "# Concatenating both these numbers \n",
    "X1 = np.concatenate((xl,xr))\n",
    "print(X1)"
   ]
  },
  {
   "cell_type": "code",
   "execution_count": 36,
   "metadata": {},
   "outputs": [],
   "source": [
    "# Generate second feature\n",
    "X2 = np.sin(X1)"
   ]
  },
  {
   "cell_type": "code",
   "execution_count": 37,
   "metadata": {},
   "outputs": [
    {
     "data": {
      "image/png": "[encoded data removed]",
      "text/plain": [
       "<Figure size 432x288 with 1 Axes>"
      ]
     },
     "metadata": {
      "needs_background": "light"
     },
     "output_type": "display_data"
    }
   ],
   "source": [
    "# Plot the distribution \n",
    "import matplotlib.pyplot as plot\n",
    "\n",
    "plot.plot(X1, X2)\n",
    "plot.show()"
   ]
  },
  {
   "cell_type": "code",
   "execution_count": 38,
   "metadata": {},
   "outputs": [],
   "source": [
    "# Reshaping the individual data sets\n",
    "X1 = X1.reshape(128,1)\n",
    "X2 = X2.reshape(128,1)"
   ]
  },
  {
   "cell_type": "code",
   "execution_count": 39,
   "metadata": {},
   "outputs": [
    {
     "data": {
      "text/plain": [
       "(128, 2)"
      ]
     },
     "execution_count": 39,
     "metadata": {},
     "output_type": "execute_result"
    }
   ],
   "source": [
    "# Concatenate both features to form the real data set\n",
    "realData = np.concatenate((X1,X2),axis=1)\n",
    "realData.shape"
   ]
  },
  {
   "cell_type": "code",
   "execution_count": null,
   "metadata": {},
   "outputs": [],
   "source": []
  }
 ],
 "metadata": {
  "kernelspec": {
   "display_name": "Python 3",
   "language": "python",
   "name": "python3"
  },
  "language_info": {
   "codemirror_mode": {
    "name": "ipython",
    "version": 3
   },
   "file_extension": ".py",
   "mimetype": "text/x-python",
   "name": "python",
   "nbconvert_exporter": "python",
   "pygments_lexer": "ipython3",
   "version": "3.7.4"
  }
 },
 "nbformat": 4,
 "nbformat_minor": 2
}
